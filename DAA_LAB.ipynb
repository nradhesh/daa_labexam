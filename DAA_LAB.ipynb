{
 "cells": [
  {
   "cell_type": "code",
   "execution_count": 9,
   "id": "9768d414-f736-465b-bbb5-b1d2c52c08e9",
   "metadata": {},
   "outputs": [
    {
     "name": "stdout",
     "output_type": "stream",
     "text": [
      "Enter men's preferences:\n"
     ]
    },
    {
     "name": "stdout",
     "output_type": "stream",
     "text": [
      "Enter preference list for v separated by space (using names v, w, x):  v w x\n",
      "Enter preference list for w separated by space (using names v, w, x):  w v x\n",
      "Enter preference list for x separated by space (using names v, w, x):  v w x\n"
     ]
    },
    {
     "name": "stdout",
     "output_type": "stream",
     "text": [
      "\n",
      "Enter women's preferences:\n"
     ]
    },
    {
     "name": "stdout",
     "output_type": "stream",
     "text": [
      "Enter preference list for a separated by space (using names a, b, c):  a b c\n",
      "Enter preference list for b separated by space (using names a, b, c):  b c a\n",
      "Enter preference list for c separated by space (using names a, b, c):  c a b\n"
     ]
    },
    {
     "name": "stdout",
     "output_type": "stream",
     "text": [
      "\n",
      "Stable Matches:\n",
      "a is matched with v\n",
      "b is matched with w\n",
      "c is matched with x\n"
     ]
    }
   ],
   "source": [
    "def read_preferences(n, entity, names):\n",
    "    prefr = []\n",
    "    for i in range(n):\n",
    "        name = names[i]\n",
    "        pref = input(f\"Enter preference list for {name} separated by space (using names {', '.join(names)}): \").split()\n",
    "        prefr.append([names.index(p) for p in pref])\n",
    "    return prefr\n",
    "\n",
    "def gale_shapley(mpref, wpref):\n",
    "    n = len(mpref)\n",
    "    wpartner = [-1] * n\n",
    "    mnextpref = [0] * n\n",
    "    freem = list(range(n))\n",
    "    while freem:\n",
    "        m = freem.pop(0)\n",
    "        w = mpref[m][mnextpref[m]]\n",
    "        mnextpref[m] += 1\n",
    "        if wpartner[w] == -1:\n",
    "            wpartner[w] = m\n",
    "        else:\n",
    "            currpartner = wpartner[w]\n",
    "            if wpref[w].index(m) < wpref[w].index(currpartner):\n",
    "                wpartner[w] = m\n",
    "                freem.append(currpartner)\n",
    "    return wpartner\n",
    "\n",
    "n = 3\n",
    "men_names = ['a', 'b', 'c']\n",
    "women_names = ['v', 'w', 'x']\n",
    "\n",
    "print(\"Enter men's preferences:\")\n",
    "mpreflst = read_preferences(n, \"men\", women_names)\n",
    "\n",
    "print(\"\\nEnter women's preferences:\")\n",
    "wpreflst = read_preferences(n, \"women\", men_names)\n",
    "\n",
    "stable_matches = gale_shapley(mpreflst, wpreflst)\n",
    "\n",
    "print(\"\\nStable Matches:\")\n",
    "for i, man in enumerate(stable_matches):\n",
    "    print(f\"{men_names[man]} is matched with {women_names[i]}\")\n"
   ]
  },
  {
   "cell_type": "code",
   "execution_count": 14,
   "id": "c1647ed9-8c62-4c44-babe-eff7eeddc2a1",
   "metadata": {},
   "outputs": [
    {
     "name": "stdout",
     "output_type": "stream",
     "text": [
      "[1, 2, 4, 5, 6]\n"
     ]
    }
   ],
   "source": [
    "#merge sort\n",
    "def merge_sort(arr ):\n",
    "    if(len(arr)<=1):\n",
    "        return arr\n",
    "    mid = len(arr)//2\n",
    "    left = merge_sort(arr[:mid])\n",
    "    right = merge_sort(arr[mid:])\n",
    "    return merge(left , right)\n",
    "def merge(left  , right):\n",
    "    i =0\n",
    "    j =0\n",
    "    res =[]\n",
    "    while(i< len(left) and j<len(right)):\n",
    "        if left[i] < right[j] :\n",
    "            res.append(left[i])\n",
    "            i+=1\n",
    "        elif left[i]>right[j]:\n",
    "            res.append(right[j])\n",
    "            j+=1\n",
    "    res.extend(left[i:])\n",
    "    res.extend(right[j:])\n",
    "    return res\n",
    "arr =[1,2,6,5,4]\n",
    "print(merge_sort(arr))\n",
    "\n",
    "    "
   ]
  },
  {
   "cell_type": "code",
   "execution_count": 23,
   "id": "592778bf-2c27-4e93-a347-453492075344",
   "metadata": {},
   "outputs": [
    {
     "name": "stdout",
     "output_type": "stream",
     "text": [
      "[1, 2, 3, 4, 5, 6]\n"
     ]
    }
   ],
   "source": [
    "#quick sort\n",
    "def partition(arr , low , high):\n",
    "    pivot = arr[low]\n",
    "    i = low +1\n",
    "    j = high \n",
    "    while True:\n",
    "        while i<= j and arr[i] <= pivot:\n",
    "            i+=1\n",
    "        while i<=j and arr[j] > pivot:\n",
    "            j-=1\n",
    "        if i<= j:\n",
    "            arr[i] , arr[j] = arr[j] , arr[i]\n",
    "        else:\n",
    "            break\n",
    "    arr[low] , arr[j] = arr[j],arr[low]\n",
    "    return j \n",
    "def quicksort(arr , low , high):\n",
    "    if(low < high):\n",
    "        pivoti = partition(arr , low , high)\n",
    "        quicksort(arr , low , pivoti-1)\n",
    "        quicksort(arr , pivoti+1 ,high)\n",
    "arr =[1,2,4,6,5,3]\n",
    "quicksort(arr , 0 , len(arr)-1)\n",
    "print(arr)"
   ]
  },
  {
   "cell_type": "code",
   "execution_count": 28,
   "id": "83426d00-4f2c-4930-a3b4-e9e634e586aa",
   "metadata": {},
   "outputs": [
    {
     "name": "stdout",
     "output_type": "stream",
     "text": [
      "1      0\n",
      "2      10\n",
      "3      60\n",
      "4      80\n",
      "5      20\n"
     ]
    }
   ],
   "source": [
    "#dijkstras\n",
    "def min_distance(dist, sptset):\n",
    "    min_idx = -1\n",
    "    min_value = 9999\n",
    "    for i in range(len(dist)):\n",
    "        if not sptset[i] and dist[i] < min_value:\n",
    "            min_idx = i\n",
    "            min_value = dist[i]\n",
    "    return min_idx\n",
    "\n",
    "def dijkstra(graph, src):\n",
    "    n = len(graph)\n",
    "    dist = [9999] * n\n",
    "    dist[src] = 0\n",
    "    sptset = [False] * n\n",
    "\n",
    "    for _ in range(n):\n",
    "        u = min_distance(dist, sptset)\n",
    "        sptset[u] = True\n",
    "        for v in range(n):\n",
    "            if graph[u][v] > 0 and not sptset[v] and dist[v] > dist[u] + graph[u][v]:\n",
    "                dist[v] = dist[u] + graph[u][v]\n",
    "\n",
    "    for j in range(n):\n",
    "        print(j + 1, \"    \", dist[j])\n",
    "\n",
    "graph = [\n",
    "    [0,  10,  0,  0, 100],\n",
    "    [10,  0, 50,  0,  10],\n",
    "    [0,  50,  0, 20,   0],\n",
    "    [0,   0, 20,  0,  60],\n",
    "    [100, 10, 0,  60,  0]\n",
    "]\n",
    "\n",
    "dijkstra(graph, 0)\n"
   ]
  },
  {
   "cell_type": "code",
   "execution_count": 33,
   "id": "1cf56af2-621b-4992-8040-4719909074ef",
   "metadata": {},
   "outputs": [
    {
     "name": "stdout",
     "output_type": "stream",
     "text": [
      "Enter number of vertices:  2\n",
      "Enter number of edges:  1\n"
     ]
    },
    {
     "name": "stdout",
     "output_type": "stream",
     "text": [
      "Enter edges in the format 'u v w' (space separated), where u, v are vertices and w is weight:\n"
     ]
    },
    {
     "name": "stdout",
     "output_type": "stream",
     "text": [
      " 0 1 10\n"
     ]
    },
    {
     "name": "stdout",
     "output_type": "stream",
     "text": [
      "Minimum Spanning Tree (u, v, weight): [[0, 1, 10]]\n"
     ]
    }
   ],
   "source": [
    "#kruskals\n",
    "def find(parent, i):\n",
    "    if parent[i] == i:\n",
    "        return i\n",
    "    return find(parent, parent[i])\n",
    "\n",
    "def union(parent, rank, x, y):\n",
    "    rx = find(parent, x)\n",
    "    ry = find(parent, y)\n",
    "    if rank[rx] < rank[ry]:\n",
    "        parent[rx] = ry\n",
    "    elif rank[rx] > rank[ry]:\n",
    "        parent[ry] = rx\n",
    "    else:\n",
    "        parent[ry] = rx\n",
    "        rank[rx] += 1\n",
    "\n",
    "def kruskal(graph, vertices):\n",
    "    res = []\n",
    "    i = 0\n",
    "    e = 0\n",
    "    graph.sort(key=lambda item: item[2])\n",
    "    parent = list(range(vertices))\n",
    "    rank = [0] * vertices\n",
    "    while e < vertices - 1:\n",
    "        u, v, w = graph[i]\n",
    "        i += 1\n",
    "        x = find(parent, u)\n",
    "        y = find(parent, v)\n",
    "        if x != y:\n",
    "            e += 1\n",
    "            res.append([u, v, w])\n",
    "            union(parent, rank, x, y)\n",
    "    return res\n",
    "\n",
    "def take_input():\n",
    "    vertices = int(input(\"Enter number of vertices: \"))\n",
    "    edges = int(input(\"Enter number of edges: \"))\n",
    "    graph = []\n",
    "    print(\"Enter edges in the format 'u v w' (space separated), where u, v are vertices and w is weight:\")\n",
    "    for _ in range(edges):\n",
    "        u, v, w = map(int, input().split())\n",
    "        graph.append([u, v, w])\n",
    "    return graph, vertices\n",
    "\n",
    "graph, vertices = take_input()\n",
    "mst = kruskal(graph, vertices)\n",
    "print(\"Minimum Spanning Tree (u, v, weight):\", mst)\n"
   ]
  },
  {
   "cell_type": "code",
   "execution_count": 40,
   "id": "f0df7b8b-b27e-4b8d-91f6-d002a2e21666",
   "metadata": {},
   "outputs": [
    {
     "name": "stdout",
     "output_type": "stream",
     "text": [
      " 6\n",
      " 1 2 3 100\n",
      " 2 2 5  200\n",
      " 3 3 6 300\n",
      " 4 4 8 400\n",
      " 5 5 9 500\n",
      " 6 6 10 100\n"
     ]
    },
    {
     "name": "stdout",
     "output_type": "stream",
     "text": [
      "700\n",
      "[(3, 3, 6, 300), (6, 6, 10, 100)]\n"
     ]
    }
   ],
   "source": [
    "#weighted interval scheduling\n",
    "def compute_p(intervals):\n",
    "    n = len(intervals)\n",
    "    p = [0] * n\n",
    "    for j in range(n):\n",
    "        p[j] = -1\n",
    "        for i in range(j-1, -1, -1):\n",
    "            if intervals[i][1] <= intervals[j][0]:\n",
    "                p[j] = i\n",
    "                break\n",
    "    return p\n",
    "\n",
    "\n",
    "def weighted_interval_scheduling(requests):\n",
    "    requests.sort(key=lambda x: x[1])\n",
    "    p = compute_p(requests)\n",
    "    n = len(requests)\n",
    "    M = [0] * (n + 1)\n",
    "    \n",
    "    for j in range(1, n + 1):\n",
    "        profit = requests[j-1][2]\n",
    "        if p[j-1] != -1:\n",
    "            M[j] = max(profit + M[p[j-1] + 1], M[j-1])\n",
    "        else:\n",
    "            M[j] = max(profit, M[j-1])\n",
    "    \n",
    "    return M[n]\n",
    "\n",
    "n = int(input())\n",
    "requests = []\n",
    "for _ in range(n):\n",
    "    start, finish, profit = map(int, input().split())\n",
    "    requests.append((start, finish, profit))\n",
    "\n",
    "# Compute the maximum profit\n",
    "\n",
    "max_profit = weighted_interval_scheduling(requests)\n",
    "print(max_profit)"
   ]
  },
  {
   "cell_type": "code",
   "execution_count": 1,
   "id": "6ef1812b-5667-4608-bb7e-6abf7a4738c5",
   "metadata": {},
   "outputs": [
    {
     "name": "stdout",
     "output_type": "stream",
     "text": [
      "[['XQXX', 'XXXQ', 'QXXX', 'XXQX'], ['XXQX', 'QXXX', 'XXXQ', 'XQXX']]\n"
     ]
    }
   ],
   "source": [
    "#nqueens problem\n",
    "def queens(n):\n",
    "    col = set()\n",
    "    posdig = set() # r+c\n",
    "    negdig = set() # r-c\n",
    "    res = []\n",
    "    board =[[\"X\"] *n for i in range(n)]\n",
    "    def backtrack(r):\n",
    "        if r==n:\n",
    "            copy = [\"\".join(row) for row in board]\n",
    "            res.append(copy)\n",
    "            return\n",
    "        for c in range(n):\n",
    "            if c in col or (r+c) in posdig or (r-c) in negdig:\n",
    "                continue\n",
    "            col.add(c)\n",
    "            posdig.add(r+c)\n",
    "            negdig.add(r-c)\n",
    "            board[r][c] =\"Q\"\n",
    "            backtrack(r+1)\n",
    "\n",
    "            col.remove(c)\n",
    "            posdig.remove(r+c)\n",
    "            negdig.remove(r-c)\n",
    "            board[r][c] =\"X\"\n",
    "    backtrack(0)\n",
    "    return res\n",
    "ans = queens(4)\n",
    "print(ans)"
   ]
  },
  {
   "cell_type": "code",
   "execution_count": 27,
   "id": "9c34af66-635f-4b03-9f44-45918e6ffb1a",
   "metadata": {},
   "outputs": [
    {
     "name": "stdout",
     "output_type": "stream",
     "text": [
      "True\n"
     ]
    }
   ],
   "source": [
    "#subset target sum dp\n",
    "def subsetsum(n , w , weights):\n",
    "    t = [[False] *(w+1) for _ in range(n+1)]\n",
    "    for i in range(n+1):\n",
    "        t[i][0] = True\n",
    "    for j in range(w+1):\n",
    "        t[0][j] = False\n",
    "        \n",
    "    for i in range(n+1):\n",
    "        for j in range(w+1):\n",
    "            if weights[i-1] <= j :\n",
    "                t[i][j] = t[i-1][j] or t[i-1][j-weights[i-1]]\n",
    "            else:\n",
    "                t[i][j] = t[i-1][j]\n",
    "    return t[n][w]\n",
    "print(subsetsum(4 , 33 , [11 ,22,1,2]))"
   ]
  },
  {
   "cell_type": "code",
   "execution_count": 39,
   "id": "12f8ebb0-c23d-4bd3-8e87-6a6c4ee4b327",
   "metadata": {},
   "outputs": [
    {
     "name": "stdout",
     "output_type": "stream",
     "text": [
      "220\n"
     ]
    }
   ],
   "source": [
    "#knapsack prblem dp\n",
    "def knapsack(n , cost , weights , w):\n",
    "    t = [[0] *(w+1) for _ in range(n+1)]\n",
    "    for i in range(1 , n+1):\n",
    "        for j in range(1 , w+1):\n",
    "            if weights[i-1] <= j :\n",
    "                t[i][j] = max(t[i-1][j] ,  t[i-1][j-weights[i-1]]+cost[i-1])\n",
    "            else:\n",
    "                t[i][j] = t[i-1][j]\n",
    "    return t[n][w]\n",
    "print(knapsack(3 , [60, 100, 120] , [10, 20, 30] , 50))"
   ]
  }
 ],
 "metadata": {
  "kernelspec": {
   "display_name": "Python 3 (ipykernel)",
   "language": "python",
   "name": "python3"
  },
  "language_info": {
   "codemirror_mode": {
    "name": "ipython",
    "version": 3
   },
   "file_extension": ".py",
   "mimetype": "text/x-python",
   "name": "python",
   "nbconvert_exporter": "python",
   "pygments_lexer": "ipython3",
   "version": "3.11.7"
  }
 },
 "nbformat": 4,
 "nbformat_minor": 5
}
